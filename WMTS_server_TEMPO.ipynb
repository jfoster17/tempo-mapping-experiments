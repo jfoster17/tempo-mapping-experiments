{
 "cells": [
  {
   "cell_type": "code",
   "execution_count": null,
   "id": "1af80785-59c6-45a2-a16c-57545ca6c083",
   "metadata": {},
   "outputs": [],
   "source": [
    "from ipyleaflet import Map, basemaps, TileLayer, projections\n",
    "from ipywidgets import Layout, SelectionSlider\n",
    "from datetime import datetime, timezone"
   ]
  },
  {
   "cell_type": "code",
   "execution_count": null,
   "id": "abbfe6bf-2cb9-4127-aa6c-4b73a2b6d2c0",
   "metadata": {},
   "outputs": [],
   "source": [
    "def convert_from_milliseconds(milliseconds_since_epoch):\n",
    "    \"\"\"Converts milliseconds since epoch to a date-time string in 'YYYY-MM-DDTHH:MM:SSZ' format.\"\"\"\n",
    "    dt = datetime.fromtimestamp((milliseconds_since_epoch)/ 1000, tz=timezone.utc)\n",
    "    date_time_str = dt.strftime('%Y-%m-%dT%H:%M:%SZ')\n",
    "    return date_time_str\n",
    "\n",
    "# The actual start times of observations from the datafiles\n",
    "time_values = [\n",
    "    1715683263000,\n",
    "    1715685668000,\n",
    "    1715688073000,\n",
    "    1715690478000,\n",
    "    1715692883000,\n",
    "    1715695288000,\n",
    "    1715698888000,\n",
    "    1715702488000,\n",
    "    1715706088000,\n",
    "    1715709688000,\n",
    "    1715713288000,\n",
    "    1715716888000,\n",
    "    1715720488000,\n",
    "    1715724088000,\n",
    "    1715726493000,\n",
    "    1715728898000,\n",
    "    1715731303000,\n",
    "    1715733708000,\n",
    "]\n",
    "time_strings = [convert_from_milliseconds(x) for x in time_values]"
   ]
  },
  {
   "cell_type": "code",
   "execution_count": null,
   "id": "31fa9865-2da9-4c4e-9665-b536e169771b",
   "metadata": {},
   "outputs": [],
   "source": [
    "layer = 'TEMPO_L3_NO2_Vertical_Column_Troposphere'\n",
    "tileMatrixSet = 'GoogleMapsCompatible_Level7'#'1km'\n",
    "time = time_strings[0]\n",
    "url_template = 'https://gitc.earthdata.nasa.gov/wmts/epsg3857/best/% s/default/% s/% s/{z}/{y}/{x}.png'"
   ]
  },
  {
   "cell_type": "code",
   "execution_count": null,
   "id": "3dd06fe2-69c3-4524-a490-dee55178aa8c",
   "metadata": {},
   "outputs": [],
   "source": [
    "time_wmts = TileLayer(\n",
    "    url=url_template % (layer, time, tileMatrixSet), \n",
    ")\n",
    "m = Map(basemap=basemaps.CartoDB.Positron, center=(41.44, -93.6), zoom=4)\n",
    "m.add(time_wmts)"
   ]
  },
  {
   "cell_type": "code",
   "execution_count": null,
   "id": "bac81058-6046-4938-899d-fdb5b9933b00",
   "metadata": {},
   "outputs": [],
   "source": [
    "slider = SelectionSlider(description='Time:', options=time_strings, layout=Layout(width='500px'))\n",
    "def update_wms(change):\n",
    "    time = change.new\n",
    "    time_wmts.url = url_template % (layer, time, tileMatrixSet)\n",
    "    #time_wmts.redraw() # This causes flickering, but prevents leftover tiles from sticking around.\n",
    "slider.observe(update_wms, 'value')\n",
    "slider"
   ]
  },
  {
   "cell_type": "code",
   "execution_count": null,
   "id": "3cc10d1b-1f22-4be8-925c-7bc3ad82c8a9",
   "metadata": {},
   "outputs": [],
   "source": []
  }
 ],
 "metadata": {
  "kernelspec": {
   "display_name": "Python 3 (ipykernel)",
   "language": "python",
   "name": "python3"
  },
  "language_info": {
   "codemirror_mode": {
    "name": "ipython",
    "version": 3
   },
   "file_extension": ".py",
   "mimetype": "text/x-python",
   "name": "python",
   "nbconvert_exporter": "python",
   "pygments_lexer": "ipython3",
   "version": "3.10.13"
  }
 },
 "nbformat": 4,
 "nbformat_minor": 5
}
