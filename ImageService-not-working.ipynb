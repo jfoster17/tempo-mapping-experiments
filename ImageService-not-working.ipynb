{
 "cells": [
  {
   "cell_type": "markdown",
   "id": "7a3fe6f1-9064-4715-93a3-722b73ce320a",
   "metadata": {},
   "source": [
    "## This does not fully work\n",
    "\n",
    "The Imageservice layer in ipyleaflet only does GET requests, but our RENDER_RULE is too long for GET. This shows the ImageService with the all-blue image, assuming we could get the RenderRule part to be shorter.\n",
    "\n",
    "*After* the images are downloaded once this is pretty smooth. But until then it's pretty slow.\n",
    "\n",
    "Also, the zoom/pan operations on the map are pretty messesed up.\n",
    "\n",
    "Doing a roll-my-own thing here is unlikely to *improve* any aspect of this."
   ]
  },
  {
   "cell_type": "code",
   "execution_count": 23,
   "id": "53daeed1-8223-4764-98d2-c03e6e5aef1a",
   "metadata": {},
   "outputs": [],
   "source": [
    "from ipyleaflet import Map, ImageService, basemaps\n",
    "from ipywidgets import Layout, SelectionSlider\n",
    "from datetime import datetime, timezone\n",
    "from export_image_params import MOSAIC_RULE, imageSR, bboxSR, gen_renderingRule\n",
    "\n",
    "from colormap import svs_tempo_cmap\n",
    "# from matplotlib.cm import get_cmap\n",
    "RENDER_RULE = gen_renderingRule(svs_tempo_cmap, \n",
    "                                   cmap_N = 24, # 24 seems to be the max we can use\n",
    "                                   vmin = int(1e14), \n",
    "                                   vmax = int(1.5e16), \n",
    "                                   image_mean=0, \n",
    "                                   image_std = 0)"
   ]
  },
  {
   "cell_type": "code",
   "execution_count": null,
   "id": "a729dbaa",
   "metadata": {},
   "outputs": [],
   "source": []
  },
  {
   "cell_type": "code",
   "execution_count": 24,
   "id": "d208fea0-2c13-43b2-ab5b-f6e7e619cdfc",
   "metadata": {},
   "outputs": [],
   "source": [
    "def convert_from_milliseconds(milliseconds_since_epoch):\n",
    "    \"\"\"Converts milliseconds since epoch to a date-time string in 'YYYY-MM-DDTHH:MM:SSZ' format.\"\"\"\n",
    "    dt = datetime.fromtimestamp((milliseconds_since_epoch)/ 1000, tz=timezone.utc)\n",
    "    date_time_str = dt.strftime('%Y-%m-%dT%H:%M:%SZ')\n",
    "    return date_time_str\n",
    "\n",
    "# The actual start times of observations from the datafiles\n",
    "time_values = [\n",
    "    1715683263000,\n",
    "    1715685668000,\n",
    "    1715688073000,\n",
    "    1715690478000,\n",
    "    1715692883000,\n",
    "    1715695288000,\n",
    "    1715698888000,\n",
    "    1715702488000,\n",
    "    1715706088000,\n",
    "    1715709688000,\n",
    "    1715713288000,\n",
    "    1715716888000,\n",
    "    1715720488000,\n",
    "    1715724088000,\n",
    "    1715726493000,\n",
    "    1715728898000,\n",
    "    1715731303000,\n",
    "    1715733708000,\n",
    "]\n",
    "time_strings = time_values"
   ]
  },
  {
   "cell_type": "code",
   "execution_count": 25,
   "id": "01e2781b-b856-4f0d-8860-e57660fd90e7",
   "metadata": {},
   "outputs": [],
   "source": [
    "\n",
    "im = ImageService(\n",
    "    url='https://gis.earthdata.nasa.gov/image/rest/services/C2930763263-LARC_CLOUD/TEMPO_NO2_L3_V03_HOURLY_TROPOSPHERIC_VERTICAL_COLUMN_BETA/ImageServer',\n",
    "    rendering_rule=RENDER_RULE,\n",
    "    time=[time_strings[0]],\n",
    "    mosaic_rule=MOSAIC_RULE,\n",
    "    format='jpgpng',\n",
    ")\n",
    "\n",
    "\n",
    "m = Map(basemap=basemaps.CartoDB.Positron, center=(41.44, -93.6), zoom=5)\n"
   ]
  },
  {
   "cell_type": "code",
   "execution_count": 26,
   "id": "b3f675c3-9438-4485-9dfa-598a44dc30ed",
   "metadata": {},
   "outputs": [
    {
     "data": {
      "application/vnd.jupyter.widget-view+json": {
       "model_id": "e0f859a6527f49d9834ebbd17a2223a6",
       "version_major": 2,
       "version_minor": 0
      },
      "text/plain": [
       "Map(center=[41.44, -93.6], controls=(ZoomControl(options=['position', 'zoom_in_text', 'zoom_in_title', 'zoom_o…"
      ]
     },
     "metadata": {},
     "output_type": "display_data"
    }
   ],
   "source": [
    "m.add(im)\n",
    "m"
   ]
  },
  {
   "cell_type": "code",
   "execution_count": 27,
   "id": "a5b9258a-2038-4227-bcce-763a28ba39f0",
   "metadata": {},
   "outputs": [
    {
     "data": {
      "application/vnd.jupyter.widget-view+json": {
       "model_id": "4a66786a3cb94e068cf53a5ac4e369ee",
       "version_major": 2,
       "version_minor": 0
      },
      "text/plain": [
       "SelectionSlider(description='Time:', layout=Layout(width='500px'), options=(1715683263000, 1715685668000, 1715…"
      ]
     },
     "metadata": {},
     "output_type": "display_data"
    }
   ],
   "source": [
    "slider = SelectionSlider(description='Time:', options=time_strings, layout=Layout(width='500px'))\n",
    "def update_time(change):\n",
    "    im.time = [change.new,1715733708000]\n",
    "    #m.remove(im)\n",
    "    #m.add(im)\n",
    "slider.observe(update_time, 'value')\n",
    "slider"
   ]
  },
  {
   "cell_type": "code",
   "execution_count": null,
   "id": "76a46f52-8cef-493d-b0b2-2e2a8fd60b0a",
   "metadata": {},
   "outputs": [],
   "source": [
    "#from ipyleaflet import Map, ImageService, basemaps\n",
    "\n",
    "#im = ImageService(\n",
    "#    url='https://landsat.arcgis.com/arcgis/rest/services/Landsat/PS/ImageServer',\n",
    "#    rendering_rule={\"rasterFunction\":\"Pansharpened Enhanced with DRA\"},\n",
    "#    format='jpgpng',\n",
    "#    attribution='United States Geological Survey (USGS), National Aeronautics and Space Administration (NASA)'\n",
    "#)\n",
    "\n",
    "#m = Map(basemap=basemaps.Esri.WorldTopoMap, center=(47.655548, -122.303200), zoom=12)\n",
    "\n",
    "#m.add(im)\n",
    "\n",
    "#m"
   ]
  },
  {
   "cell_type": "code",
   "execution_count": null,
   "id": "fbc1b67e-0372-44d9-a68f-b4db6c6917ec",
   "metadata": {},
   "outputs": [],
   "source": []
  }
 ],
 "metadata": {
  "kernelspec": {
   "display_name": "Python 3 (ipykernel)",
   "language": "python",
   "name": "python3"
  },
  "language_info": {
   "codemirror_mode": {
    "name": "ipython",
    "version": 3
   },
   "file_extension": ".py",
   "mimetype": "text/x-python",
   "name": "python",
   "nbconvert_exporter": "python",
   "pygments_lexer": "ipython3",
   "version": "3.11.8"
  }
 },
 "nbformat": 4,
 "nbformat_minor": 5
}
