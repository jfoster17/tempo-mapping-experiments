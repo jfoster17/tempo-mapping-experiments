{
 "cells": [
  {
   "cell_type": "code",
   "execution_count": 1,
   "id": "1af80785-59c6-45a2-a16c-57545ca6c083",
   "metadata": {},
   "outputs": [],
   "source": [
    "from ipyleaflet import Map, WMSLayer, basemaps\n",
    "from ipywidgets import Layout, SelectionSlider\n",
    "from datetime import datetime, timezone"
   ]
  },
  {
   "cell_type": "code",
   "execution_count": 2,
   "id": "abbfe6bf-2cb9-4127-aa6c-4b73a2b6d2c0",
   "metadata": {},
   "outputs": [],
   "source": [
    "def convert_from_milliseconds(milliseconds_since_epoch):\n",
    "    \"\"\"Converts milliseconds since epoch to a date-time string in 'YYYY-MM-DDTHH:MM:SSZ' format.\"\"\"\n",
    "    dt = datetime.fromtimestamp((milliseconds_since_epoch)/ 1000, tz=timezone.utc)\n",
    "    date_time_str = dt.strftime('%Y-%m-%dT%H:%M:%SZ')\n",
    "    return date_time_str\n",
    "\n",
    "# The actual start times of observations from the datafiles\n",
    "time_values = [\n",
    "    1715683263000,\n",
    "    1715685668000,\n",
    "    1715688073000,\n",
    "    1715690478000,\n",
    "    1715692883000,\n",
    "    1715695288000,\n",
    "    1715698888000,\n",
    "    1715702488000,\n",
    "    1715706088000,\n",
    "    1715709688000,\n",
    "    1715713288000,\n",
    "    1715716888000,\n",
    "    1715720488000,\n",
    "    1715724088000,\n",
    "    1715726493000,\n",
    "    1715728898000,\n",
    "    1715731303000,\n",
    "    1715733708000,\n",
    "]\n",
    "time_strings = [convert_from_milliseconds(x) for x in time_values]"
   ]
  },
  {
   "cell_type": "code",
   "execution_count": 3,
   "id": "3dd06fe2-69c3-4524-a490-dee55178aa8c",
   "metadata": {},
   "outputs": [
    {
     "data": {
      "application/vnd.jupyter.widget-view+json": {
       "model_id": "33e983ffa6bb4ebea438dbc68d140f9a",
       "version_major": 2,
       "version_minor": 0
      },
      "text/plain": [
       "Map(center=[41.44, -93.6], controls=(ZoomControl(options=['position', 'zoom_in_text', 'zoom_in_title', 'zoom_o…"
      ]
     },
     "execution_count": 3,
     "metadata": {},
     "output_type": "execute_result"
    }
   ],
   "source": [
    "from traitlets import Unicode\n",
    "\n",
    "class TimeWMSLayer(WMSLayer):\n",
    "    time = Unicode('').tag(sync=True, o=True)\n",
    "\n",
    "time_wms = TimeWMSLayer(\n",
    "    url='https://gibs.earthdata.nasa.gov/wms/epsg4326/best/wms.cgi?',\n",
    "    layers='TEMPO_L3_NO2_Vertical_Column_Troposphere',\n",
    "    time='2024-05-14T10:41:03Z',\n",
    "    format='image/png',\n",
    "    transparent=True,\n",
    "    attribution='Weather data © 2012 IEM Nexrad'\n",
    ")\n",
    "\n",
    "m = Map(basemap=basemaps.CartoDB.Positron, center=(41.44, -93.6), zoom=5)\n",
    "\n",
    "m.add(time_wms)"
   ]
  },
  {
   "cell_type": "code",
   "execution_count": 4,
   "id": "bac81058-6046-4938-899d-fdb5b9933b00",
   "metadata": {},
   "outputs": [
    {
     "data": {
      "application/vnd.jupyter.widget-view+json": {
       "model_id": "265bf102298d4cf39a34221642d6818a",
       "version_major": 2,
       "version_minor": 0
      },
      "text/plain": [
       "SelectionSlider(description='Time:', layout=Layout(width='500px'), options=('2024-05-14T10:41:03Z', '2024-05-1…"
      ]
     },
     "execution_count": 4,
     "metadata": {},
     "output_type": "execute_result"
    }
   ],
   "source": [
    "slider = SelectionSlider(description='Time:', options=time_strings, layout=Layout(width='500px'))\n",
    "def update_wms(change):\n",
    "    time_wms.time = change.new\n",
    "slider.observe(update_wms, 'value')\n",
    "slider"
   ]
  },
  {
   "cell_type": "code",
   "execution_count": null,
   "id": "a193b444-de7a-464c-8078-9cc22205940f",
   "metadata": {},
   "outputs": [],
   "source": []
  },
  {
   "cell_type": "code",
   "execution_count": null,
   "id": "ade2967e-e18d-421e-89e4-67f69a9e447a",
   "metadata": {},
   "outputs": [],
   "source": []
  }
 ],
 "metadata": {
  "kernelspec": {
   "display_name": "Python 3 (ipykernel)",
   "language": "python",
   "name": "python3"
  },
  "language_info": {
   "codemirror_mode": {
    "name": "ipython",
    "version": 3
   },
   "file_extension": ".py",
   "mimetype": "text/x-python",
   "name": "python",
   "nbconvert_exporter": "python",
   "pygments_lexer": "ipython3",
   "version": "3.10.13"
  }
 },
 "nbformat": 4,
 "nbformat_minor": 5
}
