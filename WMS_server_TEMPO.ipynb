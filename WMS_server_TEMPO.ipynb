{
 "cells": [
  {
   "cell_type": "code",
   "execution_count": null,
   "id": "1af80785-59c6-45a2-a16c-57545ca6c083",
   "metadata": {},
   "outputs": [],
   "source": [
    "from ipyleaflet import Map, WMSLayer, basemaps\n",
    "from ipywidgets import Layout, SelectionSlider\n",
    "from datetime import datetime, timezone"
   ]
  },
  {
   "cell_type": "code",
   "execution_count": null,
   "id": "abbfe6bf-2cb9-4127-aa6c-4b73a2b6d2c0",
   "metadata": {},
   "outputs": [],
   "source": [
    "def convert_from_milliseconds(milliseconds_since_epoch):\n",
    "    \"\"\"Converts milliseconds since epoch to a date-time string in 'YYYY-MM-DDTHH:MM:SSZ' format.\"\"\"\n",
    "    dt = datetime.fromtimestamp((milliseconds_since_epoch)/ 1000, tz=timezone.utc)\n",
    "    date_time_str = dt.strftime('%Y-%m-%dT%H:%M:%SZ')\n",
    "    return date_time_str\n",
    "\n",
    "# The actual start times of observations from the datafiles\n",
    "time_values = [\n",
    "    1715683263000,\n",
    "    1715685668000,\n",
    "    1715688073000,\n",
    "    1715690478000,\n",
    "    1715692883000,\n",
    "    1715695288000,\n",
    "    1715698888000,\n",
    "    1715702488000,\n",
    "    1715706088000,\n",
    "    1715709688000,\n",
    "    1715713288000,\n",
    "    1715716888000,\n",
    "    1715720488000,\n",
    "    1715724088000,\n",
    "    1715726493000,\n",
    "    1715728898000,\n",
    "    1715731303000,\n",
    "    1715733708000,\n",
    "]\n",
    "time_strings = [convert_from_milliseconds(x) for x in time_values]"
   ]
  },
  {
   "cell_type": "code",
   "execution_count": null,
   "id": "3dd06fe2-69c3-4524-a490-dee55178aa8c",
   "metadata": {},
   "outputs": [],
   "source": [
    "from traitlets import Unicode\n",
    "\n",
    "class TimeWMSLayer(WMSLayer):\n",
    "    time = Unicode('').tag(sync=True, o=True)\n",
    "\n",
    "time_wms = TimeWMSLayer(\n",
    "    url='https://gibs.earthdata.nasa.gov/wms/epsg4326/best/wms.cgi?',\n",
    "    layers='TEMPO_L3_NO2_Vertical_Column_Troposphere',\n",
    "    time='2024-05-14T10:41:03Z',\n",
    "    format='image/png',\n",
    "    transparent=True,\n",
    "    attribution='Weather data © 2012 IEM Nexrad'\n",
    ")\n",
    "\n",
    "m = Map(basemap=basemaps.CartoDB.Positron, center=(41.44, -93.6), zoom=5)\n",
    "\n",
    "m.add(time_wms)"
   ]
  },
  {
   "cell_type": "code",
   "execution_count": null,
   "id": "bac81058-6046-4938-899d-fdb5b9933b00",
   "metadata": {},
   "outputs": [],
   "source": [
    "slider = SelectionSlider(description='Time:', options=time_strings, layout=Layout(width='500px'))\n",
    "def update_wms(change):\n",
    "    time_wms.time = change.new\n",
    "slider.observe(update_wms, 'value')\n",
    "slider"
   ]
  },
  {
   "cell_type": "code",
   "execution_count": null,
   "id": "4ccba073-892b-430f-b373-3caea1b22dc1",
   "metadata": {},
   "outputs": [],
   "source": []
  }
 ],
 "metadata": {
  "kernelspec": {
   "display_name": "Python 3 (ipykernel)",
   "language": "python",
   "name": "python3"
  },
  "language_info": {
   "codemirror_mode": {
    "name": "ipython",
    "version": 3
   },
   "file_extension": ".py",
   "mimetype": "text/x-python",
   "name": "python",
   "nbconvert_exporter": "python",
   "pygments_lexer": "ipython3",
   "version": "3.10.13"
  }
 },
 "nbformat": 4,
 "nbformat_minor": 5
}
